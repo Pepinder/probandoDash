{
 "cells": [
  {
   "cell_type": "code",
   "execution_count": 14,
   "metadata": {},
   "outputs": [],
   "source": [
    "import pandas as pd\n",
    "import dask.dataframe as dd \n",
    "import geopandas as gpd"
   ]
  },
  {
   "cell_type": "code",
   "execution_count": 15,
   "metadata": {},
   "outputs": [],
   "source": [
    "import plotly.express as px\n",
    "import dask.dataframe as dd\n",
    "import plotly.io as pio\n",
    "\n",
    "\n",
    "# File path to raw data\n",
    "file_path = 'raw_data/datosEncuestaGalletas.csv'\n",
    "\n",
    "# Define column names\n",
    "column_names = ['marca_temporal', 'rango etario', 'nacionalidad', 'act. fisica (30 min) por semana',\n",
    "                'frecuencia consumo de galletas', 'en que tipo de comida consume galletas', 'tipo de galletas',\n",
    "                'cuantas unidades consume', 'en que se fija al comprar', 'que es lo importante al comprar',\n",
    "                '¿lee ingredientes?', '¿consume galletas con fibra dietetica?', '¿se siente satisfecho despues de comer?',\n",
    "                '¿nota la diferencia de saciedad al comer galletas azucaradas en comparacion de las integrales?',\n",
    "                'cuanto dinero esta dispuesto al comprar un paquete de galletas?', '¿estaria dispuesto a pagar mas por una galleta mas saludable?',\n",
    "                'consumiría galletas preparas con cascara de papa?', 'que factores consideraria al comprar una galleta elaborada con cascara de papa',\n",
    "                'cual de las siguientes afirmaciones refleja su opinion acerca de las galletas elaboradas con cascara de papa']\n",
    "\n",
    "# Specify data types\n",
    "dtypes = {col: 'string' for col in column_names}\n",
    "\n",
    "# Load the CSV file\n",
    "dfd = dd.read_csv(file_path, header=None, names=column_names, dtype=dtypes, assume_missing=True)\n",
    "\n",
    "# Drop the 'marca_temporal' column\n",
    "dfd = dfd.drop(columns=['marca_temporal'])\n",
    "\n",
    "# Convert Dask DataFrame to pandas DataFrame\n",
    "pdf = dfd.compute()\n",
    "\n",
    "# Gráfico de barras para frecuencia de consumo de galletas\n",
    "fig = px.bar(pdf, x='frecuencia consumo de galletas', title='Frecuencia de Consumo de Galletas')\n",
    "\n",
    "contingency_table = pd.crosstab(pdf['frecuencia consumo de galletas'], pdf['act. fisica (30 min) por semana'])\n"
   ]
  },
  {
   "cell_type": "code",
   "execution_count": 4,
   "metadata": {},
   "outputs": [
    {
     "name": "stdout",
     "output_type": "stream",
     "text": [
      "Frecuencia de consumo de galletas para Seleccione el rango etario al cual pertenece:\n",
      "frecuencia consumo de galletas\n",
      "¿Con cuánta frecuencia consume galletas?    1\n",
      "Name: count, dtype: Int64\n",
      "\n",
      "\n",
      "Frecuencia de consumo de galletas para 18-24 años:\n",
      "frecuencia consumo de galletas\n",
      "1-2 veces a la semana    43\n",
      "1-2 veces al mes         22\n",
      "3-4 veces a la semana    13\n",
      "Todos los días            8\n",
      "5-6 veces a la semana     7\n",
      "Nunca                     1\n",
      "Name: count, dtype: Int64\n",
      "\n",
      "\n",
      "Frecuencia de consumo de galletas para 25-30 años:\n",
      "frecuencia consumo de galletas\n",
      "1-2 veces al mes         10\n",
      "1-2 veces a la semana     8\n",
      "3-4 veces a la semana     3\n",
      "Name: count, dtype: Int64\n",
      "\n",
      "\n",
      "Frecuencia de consumo de galletas para 31-40 años:\n",
      "frecuencia consumo de galletas\n",
      "1-2 veces a la semana    7\n",
      "1-2 veces al mes         5\n",
      "3-4 veces a la semana    2\n",
      "Name: count, dtype: Int64\n",
      "\n",
      "\n",
      "Frecuencia de consumo de galletas para 41-50 años:\n",
      "frecuencia consumo de galletas\n",
      "1-2 veces al mes         2\n",
      "3-4 veces a la semana    1\n",
      "1-2 veces a la semana    1\n",
      "Name: count, dtype: Int64\n",
      "\n",
      "\n",
      "Frecuencia de consumo de galletas para 51 años o más:\n",
      "frecuencia consumo de galletas\n",
      "1-2 veces al mes    2\n",
      "Name: count, dtype: Int64\n",
      "\n",
      "\n"
     ]
    }
   ],
   "source": [
    "# Frecuencia de consumo de galletas por rango etario\n",
    "for age_range in pdf['rango etario'].unique():\n",
    "    subset = pdf[pdf['rango etario'] == age_range]\n",
    "    print(f\"Frecuencia de consumo de galletas para {age_range}:\")\n",
    "    print(subset['frecuencia consumo de galletas'].value_counts())\n",
    "    print(\"\\n\")\n"
   ]
  },
  {
   "cell_type": "code",
   "execution_count": 11,
   "metadata": {},
   "outputs": [],
   "source": [
    "# import dash\n",
    "# from dash import dcc, html\n",
    "# from dash.dependencies import Input, Output\n",
    "\n",
    "# # Inicializar la app\n",
    "# app = dash.Dash(__name__)\n",
    "\n",
    "# # Layout de la app\n",
    "# app.layout = html.Div([\n",
    "#     dcc.Dropdown(\n",
    "#         id='column-dropdown',\n",
    "#         options=[{'label': col, 'value': col} for col in pdf.columns if col != 'marca_temporal'],\n",
    "#         value='rango etario'\n",
    "#     ),\n",
    "#     dcc.Graph(id='bar-chart')\n",
    "# ])\n",
    "\n",
    "# # Callback para actualizar el gráfico basado en la columna seleccionada\n",
    "# @app.callback(\n",
    "#     Output('bar-chart', 'figure'),\n",
    "#     [Input('column-dropdown', 'value')]\n",
    "# )\n",
    "# def update_chart(selected_column):\n",
    "#     fig = px.bar(pdf, x=selected_column, title=f'Frecuencia de {selected_column}')\n",
    "#     return fig\n",
    "\n",
    "# # Ejecutar la app\n",
    "# if __name__ == '__main__':\n",
    "#     app.run_server(debug=True)\n"
   ]
  },
  {
   "cell_type": "markdown",
   "metadata": {},
   "source": []
  }
 ],
 "metadata": {
  "kernelspec": {
   "display_name": "venv",
   "language": "python",
   "name": "python3"
  },
  "language_info": {
   "codemirror_mode": {
    "name": "ipython",
    "version": 3
   },
   "file_extension": ".py",
   "mimetype": "text/x-python",
   "name": "python",
   "nbconvert_exporter": "python",
   "pygments_lexer": "ipython3",
   "version": "3.12.3"
  }
 },
 "nbformat": 4,
 "nbformat_minor": 2
}
